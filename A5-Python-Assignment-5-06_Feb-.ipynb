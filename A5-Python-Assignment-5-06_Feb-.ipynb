{
 "cells": [
  {
   "cell_type": "markdown",
   "id": "06ad234f",
   "metadata": {},
   "source": [
    "## A5-Python-Assignment-5-06_Feb-.\n"
   ]
  },
  {
   "cell_type": "markdown",
   "id": "be8ed731",
   "metadata": {},
   "source": [
    "### Q1. Create a function which will take a list as an argument and return the product of all the numbers after creating a flat list. Use the below-given list as an argument for your function. list1 = [1,2,3,4, [44,55,66, True], False, (34,56,78,89,34), {1,2,3,3,2,1}, {1:34, \"key2\": [55, 67, 78, 89], 4: (45, 22, 61, 34)}, [56, 'data science'], 'Machine Learning'] Note: you must extract numeric keys and values of the dictionary also."
   ]
  },
  {
   "cell_type": "code",
   "execution_count": 82,
   "id": "416fea4d",
   "metadata": {},
   "outputs": [],
   "source": [
    "def list1(lst):\n",
    "    from functools import reduce\n",
    "    l=[]\n",
    "    for i in lst:\n",
    "        if type(i)==int:\n",
    "            l.append(i)\n",
    "        elif type(i)==list:\n",
    "            for j in i:\n",
    "                if type(j)==int:\n",
    "                    l.append(j)\n",
    "        elif type(i)==tuple:\n",
    "            for t in i:\n",
    "                if type(t)==int:\n",
    "                    l.append(t)\n",
    "        elif type(i)==set:\n",
    "            for s in i:\n",
    "                if type(s)==int:\n",
    "                    l.append(s)\n",
    "        elif type(i)==dict:\n",
    "            for k,v in i.items():\n",
    "                if type(k)==int:\n",
    "                    l.append(k)\n",
    "                if type(v)==int:\n",
    "                    l.append(v)\n",
    "            for v in i.values():\n",
    "                if type(v)==list:\n",
    "                    for m in v:\n",
    "                        if type(m)==int:\n",
    "                            l.append(m)\n",
    "            for v in i.values():\n",
    "                if type(v)==tuple:\n",
    "                    for n in v:\n",
    "                        if type(n)==int:\n",
    "                            l.append(n)\n",
    "    \n",
    "    print(l)\n",
    "    return reduce(lambda x, y: x * y,l, 1)"
   ]
  },
  {
   "cell_type": "code",
   "execution_count": 83,
   "id": "f599985c",
   "metadata": {},
   "outputs": [],
   "source": [
    "lst=[1,2,3,4, [44,55,66, True], False, (34,56,78,89,34), {1,2,3,3,2,1}, {1:34, \"key2\": [55, 67, 78, 89], 4: (45, 22, 61, 34)}, [56, 'data science'], 'Machine Learning']"
   ]
  },
  {
   "cell_type": "code",
   "execution_count": 84,
   "id": "e31a5bd6",
   "metadata": {},
   "outputs": [
    {
     "name": "stdout",
     "output_type": "stream",
     "text": [
      "[1, 2, 3, 4, 44, 55, 66, 34, 56, 78, 89, 34, 1, 2, 3, 1, 34, 4, 55, 67, 78, 89, 45, 22, 61, 34, 56]\n"
     ]
    },
    {
     "data": {
      "text/plain": [
       "4134711838987085478833841242112000"
      ]
     },
     "execution_count": 84,
     "metadata": {},
     "output_type": "execute_result"
    }
   ],
   "source": [
    "list1(lst)"
   ]
  },
  {
   "cell_type": "code",
   "execution_count": null,
   "id": "8c0050c0",
   "metadata": {},
   "outputs": [],
   "source": []
  },
  {
   "cell_type": "markdown",
   "id": "e840c328",
   "metadata": {},
   "source": [
    "### Q2. Write a python program for encrypting a message sent to you by your friend. The logic of encryption should be such that, for a the output should be z. For b, the output should be y. For c, the output should be x respectively. Also, the whitespace should be replaced with a dollar sign. Keep the punctuation marks unchanged. Input Sentence: I want to become a Data Scientist. Encrypt the above input sentence using the program you just created."
   ]
  },
  {
   "cell_type": "code",
   "execution_count": 64,
   "id": "fdddc7ef",
   "metadata": {},
   "outputs": [],
   "source": [
    "def encrypt(stmt):\n",
    "    l=list(stmt)\n",
    "    for i in range(len(l)):\n",
    "        if l[i]=='a':\n",
    "            l[i]='z'\n",
    "        elif l[i]=='b':\n",
    "            l[i]='y'\n",
    "        elif l[i]=='c':\n",
    "            l[i]='x'\n",
    "        elif l[i]==\" \":\n",
    "            l[i]='$'\n",
    "        \n",
    "    st=''.join(l)\n",
    "    print(st)\n",
    "    "
   ]
  },
  {
   "cell_type": "code",
   "execution_count": 69,
   "id": "39666212",
   "metadata": {},
   "outputs": [],
   "source": [
    "stmt1=\"I want to become a Data Scientist\""
   ]
  },
  {
   "cell_type": "code",
   "execution_count": 70,
   "id": "6135b780",
   "metadata": {},
   "outputs": [
    {
     "name": "stdout",
     "output_type": "stream",
     "text": [
      "I$wznt$to$yexome$z$Dztz$Sxientist\n"
     ]
    }
   ],
   "source": [
    "encrypt(stmt1)"
   ]
  },
  {
   "cell_type": "code",
   "execution_count": 71,
   "id": "fd2caa5c",
   "metadata": {},
   "outputs": [],
   "source": [
    "stmt2=\"encrypting a message sent to you by your friend\""
   ]
  },
  {
   "cell_type": "code",
   "execution_count": 72,
   "id": "fa8e26b9",
   "metadata": {},
   "outputs": [
    {
     "name": "stdout",
     "output_type": "stream",
     "text": [
      "enxrypting$z$messzge$sent$to$you$yy$your$friend\n"
     ]
    }
   ],
   "source": [
    "encrypt(stmt2)"
   ]
  },
  {
   "cell_type": "code",
   "execution_count": null,
   "id": "6d911a94",
   "metadata": {},
   "outputs": [],
   "source": []
  }
 ],
 "metadata": {
  "kernelspec": {
   "display_name": "Python 3 (ipykernel)",
   "language": "python",
   "name": "python3"
  },
  "language_info": {
   "codemirror_mode": {
    "name": "ipython",
    "version": 3
   },
   "file_extension": ".py",
   "mimetype": "text/x-python",
   "name": "python",
   "nbconvert_exporter": "python",
   "pygments_lexer": "ipython3",
   "version": "3.11.5"
  }
 },
 "nbformat": 4,
 "nbformat_minor": 5
}
